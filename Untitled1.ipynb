{
 "cells": [
  {
   "cell_type": "code",
   "execution_count": 1,
   "id": "c2d93bd0-29f8-45c2-be82-b4a13af3d063",
   "metadata": {},
   "outputs": [
    {
     "data": {
      "text/html": [
       "<div>\n",
       "<style scoped>\n",
       "    .dataframe tbody tr th:only-of-type {\n",
       "        vertical-align: middle;\n",
       "    }\n",
       "\n",
       "    .dataframe tbody tr th {\n",
       "        vertical-align: top;\n",
       "    }\n",
       "\n",
       "    .dataframe thead th {\n",
       "        text-align: right;\n",
       "    }\n",
       "</style>\n",
       "<table border=\"1\" class=\"dataframe\">\n",
       "  <thead>\n",
       "    <tr style=\"text-align: right;\">\n",
       "      <th></th>\n",
       "      <th>NOME_UF</th>\n",
       "      <th>NOME_MUNICIPIO</th>\n",
       "      <th>ESFERA_GOV_ESCOLA</th>\n",
       "      <th>LOCALIZACAO_ESCOLA</th>\n",
       "      <th>INEP_ESCOLA</th>\n",
       "      <th>NOME_ESCOLA</th>\n",
       "      <th>QUANT_ALUNADO</th>\n",
       "      <th>VALOR_RECEBIDO</th>\n",
       "    </tr>\n",
       "  </thead>\n",
       "  <tbody>\n",
       "    <tr>\n",
       "      <th>0</th>\n",
       "      <td>RO</td>\n",
       "      <td>PORTO VELHO</td>\n",
       "      <td>ESTADUAL</td>\n",
       "      <td>Urbana</td>\n",
       "      <td>11000708.0</td>\n",
       "      <td>EEEFM CAP CLAUDIO MANOEL DA COSTA</td>\n",
       "      <td>60.0</td>\n",
       "      <td>R$ 4.120,00</td>\n",
       "    </tr>\n",
       "    <tr>\n",
       "      <th>1</th>\n",
       "      <td>RO</td>\n",
       "      <td>PORTO VELHO</td>\n",
       "      <td>MUNICIPAL</td>\n",
       "      <td>Rural</td>\n",
       "      <td>11000864.0</td>\n",
       "      <td>EMEF DEIGMAR MORAES DE SOUZA</td>\n",
       "      <td>200.0</td>\n",
       "      <td>R$ 54.840,00</td>\n",
       "    </tr>\n",
       "    <tr>\n",
       "      <th>2</th>\n",
       "      <td>RO</td>\n",
       "      <td>PORTO VELHO</td>\n",
       "      <td>ESTADUAL</td>\n",
       "      <td>Urbana</td>\n",
       "      <td>11001160.0</td>\n",
       "      <td>EEEF HEITOR VILLA LOBOS</td>\n",
       "      <td>60.0</td>\n",
       "      <td>R$ 8.556,00</td>\n",
       "    </tr>\n",
       "    <tr>\n",
       "      <th>3</th>\n",
       "      <td>RO</td>\n",
       "      <td>PORTO VELHO</td>\n",
       "      <td>ESTADUAL</td>\n",
       "      <td>Urbana</td>\n",
       "      <td>11001496.0</td>\n",
       "      <td>EEEFM MARCOS DE BARROS FREIRE</td>\n",
       "      <td>532.0</td>\n",
       "      <td>R$ 18.492,00</td>\n",
       "    </tr>\n",
       "    <tr>\n",
       "      <th>4</th>\n",
       "      <td>RO</td>\n",
       "      <td>PORTO VELHO</td>\n",
       "      <td>ESTADUAL</td>\n",
       "      <td>Urbana</td>\n",
       "      <td>11002255.0</td>\n",
       "      <td>EEEFM SAO LUIZ</td>\n",
       "      <td>60.0</td>\n",
       "      <td>R$ 12.420,00</td>\n",
       "    </tr>\n",
       "  </tbody>\n",
       "</table>\n",
       "</div>"
      ],
      "text/plain": [
       "  NOME_UF NOME_MUNICIPIO ESFERA_GOV_ESCOLA LOCALIZACAO_ESCOLA  INEP_ESCOLA  \\\n",
       "0      RO    PORTO VELHO          ESTADUAL             Urbana   11000708.0   \n",
       "1      RO    PORTO VELHO         MUNICIPAL              Rural   11000864.0   \n",
       "2      RO    PORTO VELHO          ESTADUAL             Urbana   11001160.0   \n",
       "3      RO    PORTO VELHO          ESTADUAL             Urbana   11001496.0   \n",
       "4      RO    PORTO VELHO          ESTADUAL             Urbana   11002255.0   \n",
       "\n",
       "                         NOME_ESCOLA  QUANT_ALUNADO  VALOR_RECEBIDO   \n",
       "0  EEEFM CAP CLAUDIO MANOEL DA COSTA           60.0     R$ 4.120,00   \n",
       "1       EMEF DEIGMAR MORAES DE SOUZA          200.0    R$ 54.840,00   \n",
       "2            EEEF HEITOR VILLA LOBOS           60.0     R$ 8.556,00   \n",
       "3      EEEFM MARCOS DE BARROS FREIRE          532.0    R$ 18.492,00   \n",
       "4                     EEEFM SAO LUIZ           60.0    R$ 12.420,00   "
      ]
     },
     "execution_count": 1,
     "metadata": {},
     "output_type": "execute_result"
    }
   ],
   "source": [
    "import pandas as pd  \n",
    "\n",
    "arquivo = \"pme.csv\"  \n",
    "df = pd.read_csv(arquivo, sep=';')  \n",
    "df.head()"
   ]
  },
  {
   "cell_type": "code",
   "execution_count": 6,
   "id": "42e2a8ce-3ca8-4b8d-a6b3-57e3d2b985ce",
   "metadata": {},
   "outputs": [
    {
     "name": "stdout",
     "output_type": "stream",
     "text": [
      "A media de QUANT_ALUNADO e: 150.85863267670916\n"
     ]
    }
   ],
   "source": [
    "def calcular_media(df, QUANT_ALUNADO):\n",
    "    media = df [QUANT_ALUNADO].mean()\n",
    "    print(\"A media de QUANT_ALUNADO e: \" +str(media))\n",
    "\n",
    "calcular_media(df, 'QUANT_ALUNADO')"
   ]
  },
  {
   "cell_type": "code",
   "execution_count": 8,
   "id": "69ced99f-8782-45b0-ade4-73c7c2093574",
   "metadata": {},
   "outputs": [
    {
     "name": "stdout",
     "output_type": "stream",
     "text": [
      "A quantidade de alunos acime de 600 foram 147\n"
     ]
    }
   ],
   "source": [
    "valor_min = 600\n",
    "contador = 1 \n",
    "\n",
    "for index, row in df.iterrows():\n",
    "    if row['QUANT_ALUNADO'] > valor_min:\n",
    "        contador += 2\n",
    "print(f\"A quantidade de alunos acime de\", valor_min, \"foram\", contador)"
   ]
  },
  {
   "cell_type": "code",
   "execution_count": 39,
   "id": "6721554e-6df3-4e43-9729-74430ebc5ecb",
   "metadata": {},
   "outputs": [
    {
     "ename": "SyntaxError",
     "evalue": "invalid syntax (2836221275.py, line 1)",
     "output_type": "error",
     "traceback": [
      "\u001b[1;36m  File \u001b[1;32m\"C:\\Users\\nascimento.v\\AppData\\Local\\Temp\\ipykernel_14780\\2836221275.py\"\u001b[1;36m, line \u001b[1;32m1\u001b[0m\n\u001b[1;33m    ---\u001b[0m\n\u001b[1;37m       ^\u001b[0m\n\u001b[1;31mSyntaxError\u001b[0m\u001b[1;31m:\u001b[0m invalid syntax\n"
     ]
    }
   ],
   "source": [
    "title: \"Aula 13\"\n",
    "author: \"Wesley Almeida\"\n",
    "date: \"13 de junho de 2023\"\n",
    "lang: pt\n",
    "format: \n",
    "  html:\n",
    "    code-tools: true\n",
    "    code-fold: true\n",
    "    default-image-extension: png\n",
    "    page-layout: full\n",
    "jupyter: python3\n",
    "---"
   ]
  },
  {
   "cell_type": "code",
   "execution_count": 11,
   "id": "3811b27f-9469-4455-ae41-d89e716a6738",
   "metadata": {},
   "outputs": [
    {
     "name": "stdout",
     "output_type": "stream",
     "text": [
      "A média da quantidade de aluno foi: 150.86\n"
     ]
    }
   ],
   "source": [
    "from functools import reduce\n",
    "\n",
    "df['QUANT_ALUNADO'] = pd.to_numeric(df['QUANT_ALUNADO'], errors='coerce')\n",
    "df = df.dropna(subset=['QUANT_ALUNADO'])\n",
    "\n",
    "media_notas = reduce(lambda x, y: x + y, df['QUANT_ALUNADO']) / len(df['QUANT_ALUNADO'])\n",
    "print(\"A média da quantidade de aluno foi:\", round(media_notas, 2))"
   ]
  },
  {
   "cell_type": "code",
   "execution_count": 38,
   "id": "4b27898a-68c5-418b-8471-db0a4aff341e",
   "metadata": {},
   "outputs": [
    {
     "name": "stdout",
     "output_type": "stream",
     "text": [
      "A soma da quantidade de alunos é: 15291.0\n",
      "A média da quantidade de alunos é: 152.91\n",
      "A mediana da quantidade de alunos é: 102.0\n"
     ]
    }
   ],
   "source": [
    "import pandas as pd\n",
    "import statistics\n",
    "\n",
    "arquivo = 'pme.csv'\n",
    "df = pd.read_csv(arquivo, sep=';', encoding='latin', nrows=100)\n",
    "\n",
    "def nota_maior_igual_sete(row):\n",
    "    nota = float(str(row['QUANT_ALUNADO']).replace(',', '.')) if isinstance(row['QUANT_ALUNADO'], str) else row['QUANT_ALUNADO']\n",
    "    return nota >= 7\n",
    "\n",
    "df_filtrado = list(filter(nota_maior_igual_sete, df.to_dict('records')))\n",
    "\n",
    "notas = [float(str(row['QUANT_ALUNADO']).replace(',', '.')) for row in df_filtrado]\n",
    "\n",
    "soma_notas = sum(notas)\n",
    "media_notas = soma_notas / len(notas)\n",
    "mediana_notas = statistics.median(notas)\n",
    "\n",
    "print(\"A soma da quantidade de alunos é:\", soma_notas)\n",
    "print(\"A média da quantidade de alunos é:\", media_notas)\n",
    "print(\"A mediana da quantidade de alunos é:\", mediana_notas)\n",
    "                                                       "
   ]
  },
  {
   "cell_type": "code",
   "execution_count": null,
   "id": "dad85c55-f3c8-4205-9b15-df01deabc67c",
   "metadata": {},
   "outputs": [],
   "source": []
  }
 ],
 "metadata": {
  "kernelspec": {
   "display_name": "Python 3 (ipykernel)",
   "language": "python",
   "name": "python3"
  },
  "language_info": {
   "codemirror_mode": {
    "name": "ipython",
    "version": 3
   },
   "file_extension": ".py",
   "mimetype": "text/x-python",
   "name": "python",
   "nbconvert_exporter": "python",
   "pygments_lexer": "ipython3",
   "version": "3.9.13"
  }
 },
 "nbformat": 4,
 "nbformat_minor": 5
}
